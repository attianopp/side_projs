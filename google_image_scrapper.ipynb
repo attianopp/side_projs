{
 "cells": [
  {
   "cell_type": "markdown",
   "id": "talented-morrison",
   "metadata": {},
   "source": [
    "# Import statements\n",
    "#### source: https://stackoverflow.com/questions/20716842/python-download-images-from-google-image-search\n",
    "##### dependencies: Python 3.6, beautiful soup 4.9.3, requests 2.25.1, urllib.request 3.6,  json 2.0.9, html5lib 1.1"
   ]
  },
  {
   "cell_type": "code",
   "execution_count": 3,
   "id": "transsexual-substance",
   "metadata": {},
   "outputs": [],
   "source": [
    "from bs4 import BeautifulSoup\n",
    "import requests\n",
    "import re\n",
    "import urllib.request as urllib2\n",
    "import os\n",
    "import json"
   ]
  },
  {
   "cell_type": "markdown",
   "id": "dependent-damage",
   "metadata": {},
   "source": [
    "# Function definitions get_soup and get_images\n",
    "\n",
    "## get_images builds a google image search url query, then uses beautifulsoup to extract image links, then downloads images from image links and stores them as jpg files "
   ]
  },
  {
   "cell_type": "code",
   "execution_count": 4,
   "id": "classified-month",
   "metadata": {},
   "outputs": [],
   "source": [
    "def get_images(original_query: str, download_num: int) -> None:\n",
    "    #initialize constants/variables\n",
    "    pageCount = 0\n",
    "    DIR=\"Pictures\"\n",
    "    header={'User-Agent':\"Mozilla/5.0 (Windows NT 6.1; WOW64) AppleWebKit/537.36 (KHTML, like Gecko) Chrome/43.0.2357.134 Safari/537.36\"\n",
    "    }\n",
    "    num_images = 0\n",
    "    \n",
    "    #make directories to store downloaded images\n",
    "    if not os.path.exists(DIR):\n",
    "                os.mkdir(DIR)\n",
    "    DIR = os.path.join(DIR, original_query)\n",
    "\n",
    "    if not os.path.exists(DIR):\n",
    "                os.mkdir(DIR)\n",
    "    \n",
    "    #build query for google search\n",
    "    query= original_query.split()\n",
    "    query='+'.join(query)\n",
    "    seen = []\n",
    "    \n",
    "    #get links to images and download them\n",
    "    while num_images < download_num:\n",
    "        #url updated based on count, gets 20 links, each from day (0,1,2,3,..,count) in the past\n",
    "        url=\"https://www.google.co.in/images?q=\"+query+\"&source=lnms&tbm=isch&tbs=qdr:d\"+str(pageCount)\n",
    "        print(f\"Downloading from {url}:\")\n",
    "        response = requests.get(url)\n",
    "\n",
    "        soup = BeautifulSoup(response.content,\"html5lib\")\n",
    "        for a in soup.find_all(\"img\",{\"class\":\"t0fcAb\"}): # hardcoded CSS details for links\n",
    "            if(num_images == download_num):\n",
    "                break\n",
    "            link = a[\"src\"]\n",
    "            #if we have already downloaded this link skip it\n",
    "            if(link in seen):\n",
    "                continue\n",
    "            else:\n",
    "                seen.append(link)\n",
    "            #try to download/save img\n",
    "            try:\n",
    "                #get raw image data and save it as a jpg file\n",
    "                req = urllib2.Request(link, headers={'User-Agent' : header})\n",
    "                raw_img = urllib2.urlopen(link).read()\n",
    "                print(num_images)\n",
    "                f = open(os.path.join(DIR , query + \"_\"+ str(num_images+1)+\".jpg\"), 'wb')\n",
    "                f.write(raw_img)\n",
    "                f.close()\n",
    "            except Exception as e:\n",
    "                print(\"could not load : \"+str(img))\n",
    "                print(f\"ERROR:{e}\")\n",
    "            num_images +=1\n",
    "        pageCount+=1\n",
    "    \n"
   ]
  },
  {
   "cell_type": "markdown",
   "id": "corrected-dealer",
   "metadata": {},
   "source": [
    "# Test get_images()"
   ]
  },
  {
   "cell_type": "code",
   "execution_count": 5,
   "id": "undefined-trail",
   "metadata": {},
   "outputs": [
    {
     "name": "stdout",
     "output_type": "stream",
     "text": [
      "Downloading from https://www.google.co.in/images?q=power+line&source=lnms&tbm=isch&tbs=qdr:d0:\n",
      "0\n",
      "1\n",
      "2\n",
      "3\n",
      "4\n",
      "5\n",
      "6\n",
      "7\n",
      "8\n",
      "9\n",
      "10\n",
      "11\n",
      "12\n",
      "13\n",
      "14\n",
      "15\n",
      "16\n",
      "17\n",
      "18\n",
      "19\n",
      "Downloading from https://www.google.co.in/images?q=power+line&source=lnms&tbm=isch&tbs=qdr:d1:\n",
      "20\n",
      "21\n",
      "22\n",
      "23\n",
      "24\n",
      "25\n",
      "26\n",
      "27\n",
      "28\n",
      "29\n",
      "30\n",
      "31\n",
      "32\n",
      "33\n",
      "34\n",
      "35\n",
      "36\n",
      "37\n",
      "38\n",
      "39\n",
      "Downloading from https://www.google.co.in/images?q=power+line&source=lnms&tbm=isch&tbs=qdr:d2:\n",
      "40\n",
      "41\n",
      "42\n",
      "43\n",
      "44\n",
      "45\n",
      "46\n",
      "47\n",
      "48\n",
      "49\n"
     ]
    }
   ],
   "source": [
    "get_images(\"power line\", 50)"
   ]
  },
  {
   "cell_type": "markdown",
   "id": "twenty-washer",
   "metadata": {},
   "source": [
    "# DEBUG\n",
    "#### http.cookiejar 3.3,"
   ]
  },
  {
   "cell_type": "code",
   "execution_count": 12,
   "id": "indirect-ceiling",
   "metadata": {},
   "outputs": [
    {
     "ename": "NameError",
     "evalue": "name 'seen' is not defined",
     "output_type": "error",
     "traceback": [
      "\u001b[1;31m---------------------------------------------------------------------------\u001b[0m",
      "\u001b[1;31mNameError\u001b[0m                                 Traceback (most recent call last)",
      "\u001b[1;32m<ipython-input-12-6b67618532b7>\u001b[0m in \u001b[0;36m<module>\u001b[1;34m\u001b[0m\n\u001b[1;32m----> 1\u001b[1;33m \u001b[1;32mfor\u001b[0m \u001b[0mlink\u001b[0m \u001b[1;32min\u001b[0m \u001b[0mseen\u001b[0m\u001b[1;33m:\u001b[0m\u001b[1;33m\u001b[0m\u001b[1;33m\u001b[0m\u001b[0m\n\u001b[0m\u001b[0;32m      2\u001b[0m     \u001b[0mprint\u001b[0m\u001b[1;33m(\u001b[0m\u001b[0mlink\u001b[0m\u001b[1;33m[\u001b[0m\u001b[1;36m48\u001b[0m\u001b[1;33m:\u001b[0m\u001b[1;36m55\u001b[0m\u001b[1;33m]\u001b[0m\u001b[1;33m)\u001b[0m\u001b[1;33m\u001b[0m\u001b[1;33m\u001b[0m\u001b[0m\n",
      "\u001b[1;31mNameError\u001b[0m: name 'seen' is not defined"
     ]
    }
   ],
   "source": [
    "for link in seen:\n",
    "    print(link[48:55])"
   ]
  },
  {
   "cell_type": "code",
   "execution_count": null,
   "id": "dramatic-advertising",
   "metadata": {},
   "outputs": [],
   "source": [
    "def get_soup(url,header):\n",
    "    return BeautifulSoup(urllib2.urlopen(urllib2.Request(url,headers=header)),\"lxml\")\n",
    "\n",
    "def get_images(original_query: str, download_num: int) -> None:\n",
    "    #build query URL\n",
    "    print(download_num)\n",
    "    query= original_query.split()\n",
    "    query='+'.join(query)\n",
    "    url=\"https://www.google.co.in/search?q=\"+query+\"&source=lnms&tbm=isch\"\n",
    "    print(url)\n",
    "    \n",
    "    #add the directory for your image here\n",
    "    DIR=\"Pictures\"\n",
    "    header={'User-Agent':\"Mozilla/5.0 (Windows NT 6.1; WOW64) AppleWebKit/537.36 (KHTML, like Gecko) Chrome/43.0.2357.134 Safari/537.36\"\n",
    "    }\n",
    "    soup = get_soup(url,header)\n",
    "    \n",
    "    #get all image links\n",
    "    ActualImages=[]# contains the link for Large original images, type of  image\n",
    "    num_images = 0\n",
    "    for a in soup.find_all(\"img\",{\"class\":\"t0fcAb\"}):\n",
    "        if(num_images == download_num):\n",
    "            break\n",
    "        link = a[\"src\"]\n",
    "        ActualImages.append(link)\n",
    "        num_images +=1\n",
    "\n",
    "    print(\"there are total \" +str(len(ActualImages))+\" images\")\n",
    "    \n",
    "    #make directories to store downloaded images\n",
    "    if not os.path.exists(DIR):\n",
    "                os.mkdir(DIR)\n",
    "    DIR = os.path.join(DIR, original_query)\n",
    "\n",
    "    if not os.path.exists(DIR):\n",
    "                os.mkdir(DIR)\n",
    "\n",
    "    #download and store images as jpg\n",
    "    for i,img in enumerate(ActualImages):\n",
    "        try:\n",
    "            req = urllib2.Request(img, headers={'User-Agent' : header})\n",
    "            raw_img = urllib2.urlopen(img).read()\n",
    "            print(i)\n",
    "            f = open(os.path.join(DIR , query + \"_\"+ str(i+1)+\".jpg\"), 'wb')\n",
    "            f.write(raw_img)\n",
    "            f.close()\n",
    "        except Exception as e:\n",
    "            print(\"could not load : \"+str(img))\n",
    "            print(e)"
   ]
  }
 ],
 "metadata": {
  "kernelspec": {
   "display_name": "Python 3",
   "language": "python",
   "name": "python3"
  },
  "language_info": {
   "codemirror_mode": {
    "name": "ipython",
    "version": 3
   },
   "file_extension": ".py",
   "mimetype": "text/x-python",
   "name": "python",
   "nbconvert_exporter": "python",
   "pygments_lexer": "ipython3",
   "version": "3.6.12"
  }
 },
 "nbformat": 4,
 "nbformat_minor": 5
}
